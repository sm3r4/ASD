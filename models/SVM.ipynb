{
  "nbformat": 4,
  "nbformat_minor": 0,
  "metadata": {
    "colab": {
      "provenance": []
    },
    "kernelspec": {
      "name": "python3",
      "display_name": "Python 3"
    },
    "language_info": {
      "name": "python"
    }
  },
  "cells": [
    {
      "cell_type": "markdown",
      "source": [
        "**Importing Necessary Libraries**"
      ],
      "metadata": {
        "id": "B89AoUTOEO7k"
      }
    },
    {
      "cell_type": "code",
      "source": [
        "import pandas as pd\n",
        "import numpy as np\n",
        "from sklearn.preprocessing import StandardScaler\n",
        "from sklearn.model_selection import train_test_split\n",
        "from sklearn.datasets import make_classification\n",
        "from sklearn import svm\n",
        "from sklearn.metrics import accuracy_score,precision_score, recall_score, f1_score, confusion_matrix"
      ],
      "metadata": {
        "id": "FfwVqmAWGTgy"
      },
      "execution_count": null,
      "outputs": []
    },
    {
      "cell_type": "markdown",
      "source": [
        "**DATA PREPROCESSING**"
      ],
      "metadata": {
        "id": "ScN5NU4bSGIS"
      }
    },
    {
      "cell_type": "code",
      "source": [
        "df= pd.read_csv(\"/content/New_data.csv\")\n",
        "\n",
        "df.replace('?', pd.NA, inplace=True)\n",
        "\n",
        "# List of categorical columns for which you want to impute missing values\n",
        "categorical_cols = ['ethnicity', 'relation']\n",
        "\n",
        "# Impute missing values with the mode of each column\n",
        "for col in categorical_cols:\n",
        "    mode_val = df[col].mode().iloc[0]  # mode() returns a Series, so use iloc[0] to get the first value\n",
        "    df[col].fillna(mode_val, inplace=True)\n",
        "\n",
        "\n",
        "numerical_cols = ['age']  # Add all your numerical columns here\n",
        "df[numerical_cols] = df[numerical_cols].apply(pd.to_numeric, errors='coerce')\n",
        "\n",
        "# Replace missing values with the mean for each numerical column\n",
        "for col in numerical_cols:\n",
        "    mean_val = df[col].mean()\n",
        "    df[col].fillna(mean_val, inplace=True)\n",
        "\n",
        "columns_to_replace = ['jundice', 'Class/ASD','gender','relation']\n",
        "df[columns_to_replace] = df[columns_to_replace].replace({'Self':1,'self':1,'Parent':1,'Healthcare':1,'Health care professional':1,'Health Care Professional':1,'Others':0,'Relative':0,'family member':0,'f':0, 'm':1, 'YES': 1, 'NO': 0, 'yes':1,'no':0,'Yes':1,'No':0})\n",
        "\n",
        "df=df.drop('ethnicity',axis=1)\n",
        "\n",
        "df.head()\n",
        "\n",
        "df.to_csv(\"Preprocessed_data.csv\", index=False)"
      ],
      "metadata": {
        "id": "FvLfmVa1Jpq6"
      },
      "execution_count": null,
      "outputs": []
    },
    {
      "cell_type": "markdown",
      "source": [
        "**DATA STANDARDIZATION**"
      ],
      "metadata": {
        "id": "qbdHq_xsSKGq"
      }
    },
    {
      "cell_type": "code",
      "source": [
        "X = df.drop(columns = 'Class/ASD', axis=1)\n",
        "Y = df['Class/ASD']\n",
        "\n",
        "scaler = StandardScaler()\n",
        "scaler.fit(X)\n",
        "standardized_data = scaler.transform(X)\n",
        "print(standardized_data)"
      ],
      "metadata": {
        "id": "SOl-Q8_vxU2c",
        "colab": {
          "base_uri": "https://localhost:8080/"
        },
        "outputId": "58c7b88e-354c-45f2-e9ed-dd703d9024d9"
      },
      "execution_count": null,
      "outputs": [
        {
          "output_type": "stream",
          "name": "stdout",
          "text": [
            "[[-0.84152725  0.87560129 -1.30875756 -0.51605613  1.14940014]\n",
            " [-0.84152725  0.74709681  0.76408346 -0.51605613  1.14940014]\n",
            " [ 1.18831564  0.93985353  0.76408346  1.93777369  1.14940014]\n",
            " ...\n",
            " [ 1.18831564 -0.66645247  0.76408346  1.93777369 -0.87001903]\n",
            " [-0.84152725 -0.66645247  0.76408346 -0.51605613 -0.87001903]\n",
            " [ 1.18831564 -0.66645247  0.76408346  1.93777369 -0.87001903]]\n"
          ]
        }
      ]
    },
    {
      "cell_type": "markdown",
      "source": [
        "**TRAINING PROCESS**"
      ],
      "metadata": {
        "id": "cfCIXp93SRU9"
      }
    },
    {
      "cell_type": "code",
      "source": [
        "X = standardized_data\n",
        "Y = df['Class/ASD']\n",
        "X_train, X_test, Y_train, Y_test = train_test_split(X,Y, test_size = 0.2, stratify=Y, random_state=2)\n",
        "print(X.shape, X_train.shape, X_test.shape)\n",
        "\n",
        "classifier = svm.SVC(kernel='linear',probability=True)\n",
        "classifier.fit(X_train, Y_train)"
      ],
      "metadata": {
        "colab": {
          "base_uri": "https://localhost:8080/",
          "height": 92
        },
        "id": "4QvUCReEzLy9",
        "outputId": "87fa50fb-8813-48f0-a827-179c8296bfb6"
      },
      "execution_count": null,
      "outputs": [
        {
          "output_type": "stream",
          "name": "stdout",
          "text": [
            "(2154, 5) (1723, 5) (431, 5)\n"
          ]
        },
        {
          "output_type": "execute_result",
          "data": {
            "text/plain": [
              "SVC(kernel='linear', probability=True)"
            ],
            "text/html": [
              "<style>#sk-container-id-1 {color: black;background-color: white;}#sk-container-id-1 pre{padding: 0;}#sk-container-id-1 div.sk-toggleable {background-color: white;}#sk-container-id-1 label.sk-toggleable__label {cursor: pointer;display: block;width: 100%;margin-bottom: 0;padding: 0.3em;box-sizing: border-box;text-align: center;}#sk-container-id-1 label.sk-toggleable__label-arrow:before {content: \"▸\";float: left;margin-right: 0.25em;color: #696969;}#sk-container-id-1 label.sk-toggleable__label-arrow:hover:before {color: black;}#sk-container-id-1 div.sk-estimator:hover label.sk-toggleable__label-arrow:before {color: black;}#sk-container-id-1 div.sk-toggleable__content {max-height: 0;max-width: 0;overflow: hidden;text-align: left;background-color: #f0f8ff;}#sk-container-id-1 div.sk-toggleable__content pre {margin: 0.2em;color: black;border-radius: 0.25em;background-color: #f0f8ff;}#sk-container-id-1 input.sk-toggleable__control:checked~div.sk-toggleable__content {max-height: 200px;max-width: 100%;overflow: auto;}#sk-container-id-1 input.sk-toggleable__control:checked~label.sk-toggleable__label-arrow:before {content: \"▾\";}#sk-container-id-1 div.sk-estimator input.sk-toggleable__control:checked~label.sk-toggleable__label {background-color: #d4ebff;}#sk-container-id-1 div.sk-label input.sk-toggleable__control:checked~label.sk-toggleable__label {background-color: #d4ebff;}#sk-container-id-1 input.sk-hidden--visually {border: 0;clip: rect(1px 1px 1px 1px);clip: rect(1px, 1px, 1px, 1px);height: 1px;margin: -1px;overflow: hidden;padding: 0;position: absolute;width: 1px;}#sk-container-id-1 div.sk-estimator {font-family: monospace;background-color: #f0f8ff;border: 1px dotted black;border-radius: 0.25em;box-sizing: border-box;margin-bottom: 0.5em;}#sk-container-id-1 div.sk-estimator:hover {background-color: #d4ebff;}#sk-container-id-1 div.sk-parallel-item::after {content: \"\";width: 100%;border-bottom: 1px solid gray;flex-grow: 1;}#sk-container-id-1 div.sk-label:hover label.sk-toggleable__label {background-color: #d4ebff;}#sk-container-id-1 div.sk-serial::before {content: \"\";position: absolute;border-left: 1px solid gray;box-sizing: border-box;top: 0;bottom: 0;left: 50%;z-index: 0;}#sk-container-id-1 div.sk-serial {display: flex;flex-direction: column;align-items: center;background-color: white;padding-right: 0.2em;padding-left: 0.2em;position: relative;}#sk-container-id-1 div.sk-item {position: relative;z-index: 1;}#sk-container-id-1 div.sk-parallel {display: flex;align-items: stretch;justify-content: center;background-color: white;position: relative;}#sk-container-id-1 div.sk-item::before, #sk-container-id-1 div.sk-parallel-item::before {content: \"\";position: absolute;border-left: 1px solid gray;box-sizing: border-box;top: 0;bottom: 0;left: 50%;z-index: -1;}#sk-container-id-1 div.sk-parallel-item {display: flex;flex-direction: column;z-index: 1;position: relative;background-color: white;}#sk-container-id-1 div.sk-parallel-item:first-child::after {align-self: flex-end;width: 50%;}#sk-container-id-1 div.sk-parallel-item:last-child::after {align-self: flex-start;width: 50%;}#sk-container-id-1 div.sk-parallel-item:only-child::after {width: 0;}#sk-container-id-1 div.sk-dashed-wrapped {border: 1px dashed gray;margin: 0 0.4em 0.5em 0.4em;box-sizing: border-box;padding-bottom: 0.4em;background-color: white;}#sk-container-id-1 div.sk-label label {font-family: monospace;font-weight: bold;display: inline-block;line-height: 1.2em;}#sk-container-id-1 div.sk-label-container {text-align: center;}#sk-container-id-1 div.sk-container {/* jupyter's `normalize.less` sets `[hidden] { display: none; }` but bootstrap.min.css set `[hidden] { display: none !important; }` so we also need the `!important` here to be able to override the default hidden behavior on the sphinx rendered scikit-learn.org. See: https://github.com/scikit-learn/scikit-learn/issues/21755 */display: inline-block !important;position: relative;}#sk-container-id-1 div.sk-text-repr-fallback {display: none;}</style><div id=\"sk-container-id-1\" class=\"sk-top-container\"><div class=\"sk-text-repr-fallback\"><pre>SVC(kernel=&#x27;linear&#x27;, probability=True)</pre><b>In a Jupyter environment, please rerun this cell to show the HTML representation or trust the notebook. <br />On GitHub, the HTML representation is unable to render, please try loading this page with nbviewer.org.</b></div><div class=\"sk-container\" hidden><div class=\"sk-item\"><div class=\"sk-estimator sk-toggleable\"><input class=\"sk-toggleable__control sk-hidden--visually\" id=\"sk-estimator-id-1\" type=\"checkbox\" checked><label for=\"sk-estimator-id-1\" class=\"sk-toggleable__label sk-toggleable__label-arrow\">SVC</label><div class=\"sk-toggleable__content\"><pre>SVC(kernel=&#x27;linear&#x27;, probability=True)</pre></div></div></div></div></div>"
            ]
          },
          "metadata": {},
          "execution_count": 5
        }
      ]
    },
    {
      "cell_type": "code",
      "source": [
        "import pickle\n",
        "\n",
        "with open('svm_model.pkl','wb') as f:\n",
        "    pickle.dump(classifier,f)\n",
        "\n",
        "with open('scaler.pkl','wb') as f:\n",
        "    pickle.dump(scaler,f)"
      ],
      "metadata": {
        "id": "bzKqyR19AHW0"
      },
      "execution_count": null,
      "outputs": []
    },
    {
      "cell_type": "markdown",
      "source": [
        "**ACCURACY**"
      ],
      "metadata": {
        "id": "vFUftULPSfyS"
      }
    },
    {
      "cell_type": "code",
      "source": [
        "# accuracy score on the training data\n",
        "X_train_prediction = classifier.predict(X_train)\n",
        "training_data_accuracy = accuracy_score(X_train_prediction, Y_train)\n",
        "print('Accuracy score of the training data : ', training_data_accuracy)\n",
        "\n",
        "# accuracy score on the test data\n",
        "X_test_prediction = classifier.predict(X_test)\n",
        "test_data_accuracy = accuracy_score(X_test_prediction, Y_test)\n",
        "print('Accuracy score of the test data : ', test_data_accuracy)"
      ],
      "metadata": {
        "colab": {
          "base_uri": "https://localhost:8080/"
        },
        "id": "ykzVZOPiz0GT",
        "outputId": "8958cc48-abc5-4bc2-e8eb-d58aaabeda4d"
      },
      "execution_count": null,
      "outputs": [
        {
          "output_type": "stream",
          "name": "stdout",
          "text": [
            "Accuracy score of the training data :  0.893789901334881\n",
            "Accuracy score of the test data :  0.8955916473317865\n"
          ]
        }
      ]
    },
    {
      "cell_type": "markdown",
      "source": [
        "**PERFORMANCE MEASURES**"
      ],
      "metadata": {
        "id": "y5KYGVyDSXTZ"
      }
    },
    {
      "cell_type": "code",
      "source": [
        "precision = precision_score(Y_test, X_test_prediction)\n",
        "recall = recall_score(Y_test, X_test_prediction)\n",
        "f1 = f1_score(Y_test, X_test_prediction)\n",
        "\n",
        "# Print the results\n",
        "print(f'Precision: {precision:.4f}')\n",
        "print(f'Recall: {recall:.4f}')\n",
        "print(f'F1 Score: {f1:.4f}')\n",
        "\n",
        "# Print the confusion matrix\n",
        "conf_matrix = confusion_matrix(Y_test, X_test_prediction)\n",
        "print('Confusion Matrix:')\n",
        "print(conf_matrix)"
      ],
      "metadata": {
        "colab": {
          "base_uri": "https://localhost:8080/"
        },
        "id": "B9AB-8iFSD8v",
        "outputId": "6bb34df4-a1bb-4e01-a65a-b6785a1ef3f4"
      },
      "execution_count": null,
      "outputs": [
        {
          "output_type": "stream",
          "name": "stdout",
          "text": [
            "Precision: 1.0000\n",
            "Recall: 0.7991\n",
            "F1 Score: 0.8883\n",
            "Confusion Matrix:\n",
            "[[207   0]\n",
            " [ 45 179]]\n"
          ]
        }
      ]
    },
    {
      "cell_type": "markdown",
      "source": [
        "**SAVING THE MODEL**"
      ],
      "metadata": {
        "id": "VDM6pbxhSjRL"
      }
    },
    {
      "cell_type": "code",
      "source": [
        "import pickle\n",
        "\n",
        "# Define the filename for saving the model\n",
        "filename = 'svm_model.pkl'\n",
        "\n",
        "# Save the model to the file\n",
        "with open(filename, 'wb') as file:\n",
        "    pickle.dump(classifier, file)\n"
      ],
      "metadata": {
        "id": "ViT6E-EICYPp"
      },
      "execution_count": null,
      "outputs": []
    },
    {
      "cell_type": "markdown",
      "source": [
        "**TESTING**"
      ],
      "metadata": {
        "id": "iR5L2OytSlnm"
      }
    },
    {
      "cell_type": "code",
      "source": [
        "def preprocess_input(input_data):\n",
        "    replacement_mapping = {\n",
        "        'Self': 1, 'Parent': 1, 'Healthcare Professional': 1,\n",
        "        'Others': 0, 'Relative': 0, 'Female': 0,\n",
        "        'Male': 1, 'YES': 1, 'NO': 0, 'yes': 1, 'no': 0, 'Yes': 1, 'No': 0\n",
        "    }\n",
        "    mapped_data = tuple(replacement_mapping.get(value, value) for value in input_data)\n",
        "    return mapped_data\n",
        "\n",
        "input_data = (0, 22, 'Female', 'No', 'Self')\n",
        "preprocessed_input_data = preprocess_input(input_data)\n",
        "\n",
        "input_data_as_numpy_array = np.asarray(preprocessed_input_data)\n",
        "\n",
        "# reshape the array as we are predicting for one instance\n",
        "input_data_reshaped = input_data_as_numpy_array.reshape(1,-1)\n",
        "\n",
        "# standardize the input data\n",
        "std_data = scaler.transform(input_data_reshaped)\n",
        "print(std_data)\n",
        "\n",
        "prediction = classifier.predict_proba(std_data)\n",
        "print(prediction)\n",
        "\n",
        "if (prediction[0][0] > prediction[0][1]):\n",
        "  print('The person is not with Autism spectrum disorder')\n",
        "else:\n",
        "  print('The person is with Autism spectrum disorder')"
      ],
      "metadata": {
        "colab": {
          "base_uri": "https://localhost:8080/"
        },
        "id": "YBwD9IzT0EIl",
        "outputId": "0cc5298f-ed51-45c4-9275-cbab4ee9d51e"
      },
      "execution_count": null,
      "outputs": [
        {
          "output_type": "stream",
          "name": "stdout",
          "text": [
            "[[-0.84152725  0.61859233 -1.30875756 -0.51605613  1.14940014]]\n",
            "[[0.81778825 0.18221175]]\n",
            "The person is not with Autism spectrum disorder\n"
          ]
        },
        {
          "output_type": "stream",
          "name": "stderr",
          "text": [
            "/usr/local/lib/python3.10/dist-packages/sklearn/base.py:439: UserWarning: X does not have valid feature names, but StandardScaler was fitted with feature names\n",
            "  warnings.warn(\n"
          ]
        }
      ]
    },
    {
      "cell_type": "code",
      "source": [
        "from sklearn.model_selection import train_test_split\n",
        "from sklearn.svm import SVC\n",
        "from sklearn.metrics import roc_curve, auc\n",
        "import matplotlib.pyplot as plt\n",
        "\n",
        "y_proba = classifier.predict_proba(X_test)[:, 1]  # Probability of class 1\n",
        "\n",
        "# Calculate the ROC curve\n",
        "fpr, tpr, thresholds = roc_curve(Y_test, y_proba)\n",
        "\n",
        "# Calculate the area under the ROC curve (AUC)\n",
        "roc_auc = auc(fpr, tpr)\n",
        "\n",
        "# Plot ROC curve\n",
        "plt.figure()\n",
        "plt.plot(fpr, tpr, color='b', label=f'ROC curve (AUC = {roc_auc:.2f})')\n",
        "plt.plot([0, 1], [0, 1], linestyle='--', color='r', label='Random guess')\n",
        "plt.xlabel('False Positive Rate (FPR)')\n",
        "plt.ylabel('True Positive Rate (TPR)')\n",
        "plt.title('Receiver Operating Characteristic (ROC) Curve')\n",
        "plt.legend(loc='lower right')\n",
        "plt.grid(True)\n",
        "plt.savefig('roc_curve.png')\n",
        "plt.show()\n"
      ],
      "metadata": {
        "colab": {
          "base_uri": "https://localhost:8080/",
          "height": 472
        },
        "id": "dPtoCqOd-FSB",
        "outputId": "a68298ec-f1a2-4b25-831d-491265f19bef"
      },
      "execution_count": null,
      "outputs": [
        {
          "output_type": "display_data",
          "data": {
            "text/plain": [
              "<Figure size 640x480 with 1 Axes>"
            ],
            "image/png": "[encoded data removed]"
          },
          "metadata": {}
        }
      ]
    }
  ]
}