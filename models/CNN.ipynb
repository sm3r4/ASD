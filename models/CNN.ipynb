{
  "cells": [
    {
      "cell_type": "code",
      "execution_count": null,
      "id": "cMdenU1s-KtO",
      "metadata": {
        "colab": {
          "base_uri": "https://localhost:8080/"
        },
        "id": "cMdenU1s-KtO",
        "outputId": "3d5f9acc-158e-4224-d249-1982606564c8"
      },
      "outputs": [],
      "source": [
        "from google.colab import drive\n",
        "drive.mount('/content/drive')"
      ]
    },
    {
      "cell_type": "markdown",
      "id": "adb60d97",
      "metadata": {
        "id": "adb60d97"
      },
      "source": [
        "# Import Basic Libraries"
      ]
    },
    {
      "cell_type": "code",
      "execution_count": null,
      "id": "b38e3025",
      "metadata": {
        "id": "b38e3025"
      },
      "outputs": [],
      "source": [
        "import numpy as np\n",
        "import pandas as pd\n",
        "from keras.preprocessing.image import ImageDataGenerator, load_img\n",
        "from tensorflow.keras.utils import to_categorical\n",
        "from sklearn.model_selection import train_test_split\n",
        "import matplotlib.pyplot as plt\n",
        "import random\n",
        "import os\n"
      ]
    },
    {
      "cell_type": "markdown",
      "id": "433890b5",
      "metadata": {
        "id": "433890b5"
      },
      "source": [
        "# Defining the Needed Properties for Preprocessing"
      ]
    },
    {
      "cell_type": "code",
      "execution_count": null,
      "id": "ca4de134",
      "metadata": {
        "id": "ca4de134"
      },
      "outputs": [],
      "source": [
        "# Define Constants\n",
        "FAST_RUN = False\n",
        "IMAGE_WIDTH=128\n",
        "IMAGE_HEIGHT=128\n",
        "IMAGE_SIZE=(IMAGE_WIDTH, IMAGE_HEIGHT)\n",
        "IMAGE_CHANNELS=3"
      ]
    },
    {
      "cell_type": "markdown",
      "id": "d68d0b00",
      "metadata": {
        "id": "d68d0b00"
      },
      "source": [
        "# Loading Train Data\n"
      ]
    },
    {
      "cell_type": "code",
      "execution_count": null,
      "id": "64c7b845",
      "metadata": {
        "id": "64c7b845"
      },
      "outputs": [],
      "source": [
        "filenames = os.listdir(\"/content/drive/MyDrive/AutismDataset(1)/train\")\n",
        "categories = []\n",
        "for filename in filenames:\n",
        "    category = filename.split('.')[0]\n",
        "    if category == 'Autistic':\n",
        "        categories.append(1)\n",
        "    else:\n",
        "        categories.append(0)\n",
        "\n",
        "train_df = pd.DataFrame({\n",
        "    'filename': filenames,\n",
        "    'category': categories\n",
        "})"
      ]
    },
    {
      "cell_type": "code",
      "execution_count": null,
      "id": "5e0febc6",
      "metadata": {
        "colab": {
          "base_uri": "https://localhost:8080/",
          "height": 206
        },
        "id": "5e0febc6",
        "outputId": "77714ced-8dbd-4079-dc54-8d73015c0ec9"
      },
      "outputs": [],
      "source": [
        "train_df.head()\n"
      ]
    },
    {
      "cell_type": "code",
      "execution_count": null,
      "id": "d282687f",
      "metadata": {
        "colab": {
          "base_uri": "https://localhost:8080/",
          "height": 206
        },
        "id": "d282687f",
        "outputId": "52a4c15a-e3ae-4b91-ad3f-d851271c327f"
      },
      "outputs": [],
      "source": [
        "train_df.tail()\n"
      ]
    },
    {
      "cell_type": "markdown",
      "id": "3fff7888",
      "metadata": {
        "id": "3fff7888"
      },
      "source": [
        "# Plotting Train Data"
      ]
    },
    {
      "cell_type": "code",
      "execution_count": null,
      "id": "8a6ca600",
      "metadata": {
        "colab": {
          "base_uri": "https://localhost:8080/",
          "height": 442
        },
        "id": "8a6ca600",
        "outputId": "099936ac-cfbe-42c5-fcbf-615ce4cfd171"
      },
      "outputs": [],
      "source": [
        "train_df['category'].value_counts().plot.bar()\n"
      ]
    },
    {
      "cell_type": "code",
      "execution_count": null,
      "id": "c1dad2f5",
      "metadata": {
        "id": "c1dad2f5"
      },
      "outputs": [],
      "source": [
        "test_filenames = os.listdir(\"/content/drive/MyDrive/AutismDataset(1)/test\")\n",
        "categories = []\n",
        "for filename in test_filenames:\n",
        "    category = filename.split('.')[0]\n",
        "    if category == 'Autistic':\n",
        "        categories.append(1)\n",
        "    else:\n",
        "        categories.append(0)\n",
        "\n",
        "test_df = pd.DataFrame({\n",
        "    'filename': test_filenames,\n",
        "    'category': categories\n",
        "})"
      ]
    },
    {
      "cell_type": "code",
      "execution_count": null,
      "id": "35284870",
      "metadata": {
        "colab": {
          "base_uri": "https://localhost:8080/",
          "height": 206
        },
        "id": "35284870",
        "outputId": "b1b5e882-97d2-41dc-ba3b-21fdb9e9ed3f"
      },
      "outputs": [],
      "source": [
        "test_df.head()\n"
      ]
    },
    {
      "cell_type": "code",
      "execution_count": null,
      "id": "ylRk8sdZA74e",
      "metadata": {
        "colab": {
          "base_uri": "https://localhost:8080/",
          "height": 206
        },
        "id": "ylRk8sdZA74e",
        "outputId": "2c9d96a8-ccb7-42a9-c02c-4ab5b429ac9a"
      },
      "outputs": [],
      "source": [
        "test_df.tail()"
      ]
    },
    {
      "cell_type": "markdown",
      "id": "2d3ae5cf",
      "metadata": {
        "id": "2d3ae5cf"
      },
      "source": [
        "# Plotting Test Data"
      ]
    },
    {
      "cell_type": "code",
      "execution_count": null,
      "id": "07828b3d",
      "metadata": {
        "colab": {
          "base_uri": "https://localhost:8080/",
          "height": 442
        },
        "id": "07828b3d",
        "outputId": "28a12640-8a5b-4977-b0c7-db6342119c4a"
      },
      "outputs": [],
      "source": [
        "test_df['category'].value_counts().plot.bar()"
      ]
    },
    {
      "cell_type": "markdown",
      "id": "67fbeefe",
      "metadata": {
        "id": "67fbeefe"
      },
      "source": [
        "# Loading Random Images From The Dataset\n"
      ]
    },
    {
      "cell_type": "code",
      "execution_count": null,
      "id": "6b96f286",
      "metadata": {
        "colab": {
          "base_uri": "https://localhost:8080/",
          "height": 452
        },
        "id": "6b96f286",
        "outputId": "c6c6f183-0890-4928-9471-edf38ce6648b"
      },
      "outputs": [],
      "source": [
        "# See Sample Image\n",
        "sample = random.choice(filenames)\n",
        "image = load_img(\"/content/drive/MyDrive/AutismDataset(1)/train/\"+sample)\n",
        "plt.imshow(image)"
      ]
    },
    {
      "cell_type": "code",
      "execution_count": null,
      "id": "638a7e4d",
      "metadata": {
        "colab": {
          "base_uri": "https://localhost:8080/"
        },
        "id": "638a7e4d",
        "outputId": "6a46c02e-d750-418c-c449-e61fd831b0d0"
      },
      "outputs": [],
      "source": [
        "base_path = \"/content/drive/MyDrive/AutismDataset(1)/valid\"\n",
        "subfolders = ['Autistic', 'Non_Autistic']\n",
        "valid_filenames = []\n",
        "categories = []\n",
        "\n",
        "for subfolder in subfolders:\n",
        "    folder_path = os.path.join(base_path, subfolder)\n",
        "    filenames = os.listdir(folder_path)\n",
        "    valid_filenames.extend([os.path.join(subfolder, filename) for filename in filenames])\n",
        "    if subfolder == 'autistic':\n",
        "        categories.extend([1] * len(filenames))\n",
        "    else:  # Assuming any other folder would be 'non_autistic'\n",
        "        categories.extend([0] * len(filenames))\n",
        "\n",
        "valid_df = pd.DataFrame({\n",
        "    'filename': valid_filenames,\n",
        "    'category': categories\n",
        "})\n",
        "\n",
        "print(valid_df.head())  # Display the first few rows of the DataFrame to verify\n"
      ]
    },
    {
      "cell_type": "code",
      "execution_count": null,
      "id": "3502b26a",
      "metadata": {
        "colab": {
          "base_uri": "https://localhost:8080/",
          "height": 206
        },
        "id": "3502b26a",
        "outputId": "5e754cd8-66ec-4fa3-b222-a6077c841791"
      },
      "outputs": [],
      "source": [
        "valid_df.head()\n"
      ]
    },
    {
      "cell_type": "code",
      "execution_count": null,
      "id": "ijbpTfHYBIbc",
      "metadata": {
        "colab": {
          "base_uri": "https://localhost:8080/",
          "height": 206
        },
        "id": "ijbpTfHYBIbc",
        "outputId": "a65b756b-c262-4bcf-988d-b1925d854cf2"
      },
      "outputs": [],
      "source": [
        "valid_df.tail()"
      ]
    },
    {
      "cell_type": "code",
      "execution_count": null,
      "id": "9a4186be",
      "metadata": {
        "colab": {
          "base_uri": "https://localhost:8080/",
          "height": 442
        },
        "id": "9a4186be",
        "outputId": "c2118d36-3f5b-446f-955a-6642a46e4f0b"
      },
      "outputs": [],
      "source": [
        "valid_df['category'].value_counts().plot.bar()"
      ]
    },
    {
      "cell_type": "code",
      "execution_count": null,
      "id": "OcfKGvjagHbs",
      "metadata": {
        "id": "OcfKGvjagHbs"
      },
      "outputs": [],
      "source": [
        "train_df[\"category\"] = train_df[\"category\"].replace({0: 'Non_Autistic', 1: 'Autistic'})"
      ]
    },
    {
      "cell_type": "code",
      "execution_count": null,
      "id": "ilnfSgvEg1jB",
      "metadata": {
        "id": "ilnfSgvEg1jB"
      },
      "outputs": [],
      "source": [
        "test_df[\"category\"] = test_df[\"category\"].replace({0: 'Non_Autistic', 1: 'Autistic'})"
      ]
    },
    {
      "cell_type": "code",
      "execution_count": null,
      "id": "MzbB5zzgg6mh",
      "metadata": {
        "id": "MzbB5zzgg6mh"
      },
      "outputs": [],
      "source": [
        "valid_df[\"category\"] = valid_df[\"category\"].replace({0: 'Non_Autistic', 1: 'Autistic'})"
      ]
    },
    {
      "cell_type": "code",
      "execution_count": null,
      "id": "cDy6NIUug9dU",
      "metadata": {
        "colab": {
          "base_uri": "https://localhost:8080/",
          "height": 519
        },
        "id": "cDy6NIUug9dU",
        "outputId": "88497f92-a9ab-4299-841b-c9105cf48661"
      },
      "outputs": [],
      "source": [
        "train_df['category'].value_counts().plot.bar()"
      ]
    },
    {
      "cell_type": "code",
      "execution_count": null,
      "id": "VggbZd8QhLBV",
      "metadata": {
        "colab": {
          "base_uri": "https://localhost:8080/",
          "height": 519
        },
        "id": "VggbZd8QhLBV",
        "outputId": "8390148e-7493-4024-eedf-fea8580d92bb"
      },
      "outputs": [],
      "source": [
        "test_df['category'].value_counts().plot.bar()"
      ]
    },
    {
      "cell_type": "code",
      "execution_count": null,
      "id": "QfVbIqyHhNiI",
      "metadata": {
        "colab": {
          "base_uri": "https://localhost:8080/",
          "height": 519
        },
        "id": "QfVbIqyHhNiI",
        "outputId": "ba8f04a3-0b44-477b-fb60-4f3511be7e91"
      },
      "outputs": [],
      "source": [
        "valid_df['category'].value_counts().plot.bar()"
      ]
    },
    {
      "cell_type": "markdown",
      "id": "6b5dbda1",
      "metadata": {
        "id": "6b5dbda1"
      },
      "source": [
        "# Building The Model"
      ]
    },
    {
      "cell_type": "code",
      "execution_count": null,
      "id": "145db86a",
      "metadata": {
        "id": "145db86a"
      },
      "outputs": [],
      "source": [
        "# Build Model\n",
        "from keras.models import Sequential\n",
        "from keras.layers import Conv2D, MaxPooling2D, Dropout, Flatten, Dense, Activation, BatchNormalization\n",
        "\n",
        "model = Sequential()\n",
        "\n",
        "model.add(Conv2D(32, (3, 3), activation='relu', input_shape=(IMAGE_WIDTH, IMAGE_HEIGHT, IMAGE_CHANNELS)))\n",
        "model.add(BatchNormalization())\n",
        "model.add(MaxPooling2D(pool_size=(2, 2)))\n",
        "model.add(Dropout(0.25))\n",
        "\n",
        "model.add(Conv2D(64, (3, 3), activation='relu'))\n",
        "model.add(BatchNormalization())\n",
        "model.add(MaxPooling2D(pool_size=(2, 2)))\n",
        "model.add(Dropout(0.25))\n",
        "\n",
        "model.add(Conv2D(128, (3, 3), activation='relu'))\n",
        "model.add(BatchNormalization())\n",
        "model.add(MaxPooling2D(pool_size=(2, 2)))\n",
        "model.add(Dropout(0.25))\n",
        "\n",
        "model.add(Flatten())\n",
        "model.add(Dense(512, activation='relu'))\n",
        "model.add(BatchNormalization())\n",
        "model.add(Dropout(0.5))\n",
        "model.add(Dense(2, activation='softmax'))\n",
        "\n",
        "model.compile(loss='categorical_crossentropy', optimizer='rmsprop', metrics=['accuracy'])\n",
        "\n"
      ]
    },
    {
      "cell_type": "code",
      "execution_count": null,
      "id": "6509f909",
      "metadata": {
        "colab": {
          "base_uri": "https://localhost:8080/"
        },
        "id": "6509f909",
        "outputId": "e2737cf1-14b7-4e48-9622-04de0bb517a5"
      },
      "outputs": [],
      "source": [
        "model.summary()"
      ]
    },
    {
      "cell_type": "code",
      "execution_count": null,
      "id": "567b40f5",
      "metadata": {
        "id": "567b40f5"
      },
      "outputs": [],
      "source": [
        "from keras.callbacks import EarlyStopping, ReduceLROnPlateau\n",
        "earlystop = EarlyStopping(patience=10)\n",
        "learning_rate_reduction = ReduceLROnPlateau(monitor='val_accuracy',\n",
        "                                             patience=2,\n",
        "                                             verbose=1,\n",
        "                                             factor=0.5,\n",
        "                                             min_lr=0.00001)\n",
        "callbacks = [earlystop, learning_rate_reduction]"
      ]
    },
    {
      "cell_type": "markdown",
      "id": "38db2cf6",
      "metadata": {
        "id": "38db2cf6"
      },
      "source": [
        "# Preparing the data"
      ]
    },
    {
      "cell_type": "markdown",
      "id": "10c96225",
      "metadata": {
        "id": "10c96225"
      },
      "source": [
        "# Spliting the Train and Test Data"
      ]
    },
    {
      "cell_type": "code",
      "execution_count": null,
      "id": "fa26c0b0",
      "metadata": {
        "id": "fa26c0b0"
      },
      "outputs": [],
      "source": [
        "train_df, validate_df = train_test_split(train_df, test_size=0.20, random_state=42)\n",
        "train_df = train_df.reset_index(drop=True)\n",
        "validate_df = validate_df.reset_index(drop=True)"
      ]
    },
    {
      "cell_type": "code",
      "execution_count": null,
      "id": "0075696c",
      "metadata": {
        "id": "0075696c"
      },
      "outputs": [],
      "source": [
        "total_train = train_df.shape[0]\n",
        "total_validate = validate_df.shape[0]\n",
        "batch_size=15"
      ]
    },
    {
      "cell_type": "markdown",
      "id": "ec72a123",
      "metadata": {
        "id": "ec72a123"
      },
      "source": [
        "# Creating Training Generator For Train Images"
      ]
    },
    {
      "cell_type": "code",
      "execution_count": null,
      "id": "28e27bb8",
      "metadata": {
        "colab": {
          "base_uri": "https://localhost:8080/"
        },
        "id": "28e27bb8",
        "outputId": "5133f68e-ec0b-49ef-c8b5-deac377b7817"
      },
      "outputs": [],
      "source": [
        "# Training Generator\n",
        "train_datagen = ImageDataGenerator(\n",
        "    rotation_range=10,\n",
        "    rescale=1./255,\n",
        "    shear_range=0.1,\n",
        "    zoom_range=0.2,\n",
        "    horizontal_flip=True,\n",
        "    width_shift_range=0.1,\n",
        "    height_shift_range=0.1\n",
        ")\n",
        "\n",
        "train_generator = train_datagen.flow_from_dataframe(\n",
        "    train_df,\n",
        "    \"/content/drive/MyDrive/AutismDataset(1)/train\",\n",
        "    x_col='filename',\n",
        "    y_col='category',\n",
        "    target_size=IMAGE_SIZE,\n",
        "    class_mode='categorical',\n",
        "    batch_size=batch_size\n",
        ")"
      ]
    },
    {
      "cell_type": "markdown",
      "id": "9af313c8",
      "metadata": {
        "id": "9af313c8"
      },
      "source": [
        "# Creating Validation Generator For Test Images"
      ]
    },
    {
      "cell_type": "code",
      "execution_count": null,
      "id": "6efe5c82",
      "metadata": {
        "colab": {
          "base_uri": "https://localhost:8080/"
        },
        "id": "6efe5c82",
        "outputId": "9dc452b7-a88e-4a79-e55b-3e24e39f2a88"
      },
      "outputs": [],
      "source": [
        "# Validation Generator\n",
        "validation_datagen = ImageDataGenerator(rescale=1./255)\n",
        "validation_generator = validation_datagen.flow_from_dataframe(\n",
        "    validate_df,\n",
        "    \"/content/drive/MyDrive/AutismDataset(1)/train\",\n",
        "    x_col='filename',\n",
        "    y_col='category',\n",
        "    target_size=IMAGE_SIZE,\n",
        "    class_mode='categorical',\n",
        "    batch_size=batch_size\n",
        ")"
      ]
    },
    {
      "cell_type": "markdown",
      "id": "897548cc",
      "metadata": {
        "id": "897548cc"
      },
      "source": [
        "# Fitting The Model"
      ]
    },
    {
      "cell_type": "code",
      "execution_count": null,
      "id": "7d76dc49",
      "metadata": {
        "colab": {
          "base_uri": "https://localhost:8080/"
        },
        "id": "7d76dc49",
        "outputId": "4b57bea0-04d8-43f3-d295-8fb5656435f9"
      },
      "outputs": [],
      "source": [
        "#Fit Model\n",
        "epochs=40\n",
        "history = model.fit_generator(\n",
        "    train_generator,\n",
        "    epochs=epochs,\n",
        "    validation_data=validation_generator,\n",
        "    validation_steps=total_validate//batch_size,\n",
        "    steps_per_epoch=total_train//batch_size,\n",
        ")"
      ]
    },
    {
      "cell_type": "markdown",
      "id": "7353d2f7",
      "metadata": {
        "id": "7353d2f7"
      },
      "source": [
        "# Accuracy and Loss on Test Data"
      ]
    },
    {
      "cell_type": "code",
      "execution_count": null,
      "id": "9b5db528",
      "metadata": {
        "colab": {
          "base_uri": "https://localhost:8080/"
        },
        "id": "9b5db528",
        "outputId": "9d3586c6-e814-40c4-adbb-0662890587a7"
      },
      "outputs": [],
      "source": [
        "loss, accuracy = model.evaluate_generator(validation_generator, total_validate//batch_size, workers=12)\n",
        "print(\"Test: accuracy = %f  ;  loss = %f \" % (accuracy, loss))"
      ]
    },
    {
      "cell_type": "markdown",
      "id": "3177e4d6",
      "metadata": {
        "id": "3177e4d6"
      },
      "source": [
        "# Saving The Model"
      ]
    },
    {
      "cell_type": "code",
      "execution_count": null,
      "id": "e8a227ae",
      "metadata": {
        "colab": {
          "base_uri": "https://localhost:8080/"
        },
        "id": "e8a227ae",
        "outputId": "aa7ddee7-ea7c-4635-b69b-01a9a66f26d0"
      },
      "outputs": [],
      "source": [
        "model.save(\"CNN.h5\")\n"
      ]
    },
    {
      "cell_type": "markdown",
      "id": "6ca88d5d",
      "metadata": {
        "id": "6ca88d5d"
      },
      "source": [
        "# Ploting the Loss And Accuracy"
      ]
    },
    {
      "cell_type": "code",
      "execution_count": null,
      "id": "90f05986",
      "metadata": {
        "id": "90f05986",
        "scrolled": false
      },
      "outputs": [],
      "source": [
        "fig, (ax1, ax2) = plt.subplots(2, 1, figsize=(12, 12))\n",
        "ax1.plot(history.history['loss'], color='b', label=\"Training loss\")\n",
        "ax1.plot(history.history['val_loss'], color='r', label=\"validation loss\")\n",
        "ax1.set_xticks(np.arange(1, epochs, 1))\n",
        "ax1.set_yticks(np.arange(0, 1, 0.1))\n",
        "\n",
        "ax2.plot(history.history['accuracy'], color='b', label=\"Training accuracy\")\n",
        "ax2.plot(history.history['val_accuracy'], color='r',label=\"Validation accuracy\")\n",
        "ax2.set_xticks(np.arange(1, epochs, 1))\n",
        "ax1.set_yticks(np.arange(0, 1, 0.1))\n",
        "\n",
        "\n",
        "legend = plt.legend(loc='best', shadow=True)\n",
        "plt.tight_layout()\n",
        "plt.show()"
      ]
    },
    {
      "cell_type": "markdown",
      "id": "46c6c1ad",
      "metadata": {
        "id": "46c6c1ad"
      },
      "source": [
        "# Preparing Testing Data"
      ]
    },
    {
      "cell_type": "code",
      "execution_count": null,
      "id": "0ec88b33",
      "metadata": {
        "id": "0ec88b33"
      },
      "outputs": [],
      "source": [
        "test_filenames = os.listdir(\"/content/drive/MyDrive/AutismDataset(1)/test\")\n",
        "test_df = pd.DataFrame({\n",
        "    'filename': test_filenames\n",
        "})\n",
        "nb_samples = test_df.shape[0]"
      ]
    },
    {
      "cell_type": "markdown",
      "id": "2b02a582",
      "metadata": {
        "id": "2b02a582"
      },
      "source": [
        "# Creating Testing Generator"
      ]
    },
    {
      "cell_type": "code",
      "execution_count": null,
      "id": "c99d9a15",
      "metadata": {
        "colab": {
          "base_uri": "https://localhost:8080/"
        },
        "id": "c99d9a15",
        "outputId": "472ddf8d-42b4-4e9e-c582-bb96c68e39fd"
      },
      "outputs": [],
      "source": [
        "test_gen = ImageDataGenerator(rescale=1./255)\n",
        "test_generator = test_gen.flow_from_dataframe(\n",
        "    test_df,\n",
        "    \"/content/drive/MyDrive/AutismDataset(1)/test\",\n",
        "    x_col='filename',\n",
        "    y_col=None,\n",
        "    class_mode=None,\n",
        "    target_size=IMAGE_SIZE,\n",
        "    batch_size=batch_size,\n",
        "    shuffle=False\n",
        ")"
      ]
    },
    {
      "cell_type": "markdown",
      "id": "04817baf",
      "metadata": {
        "id": "04817baf"
      },
      "source": [
        "# Predicting on Test Data\n"
      ]
    },
    {
      "cell_type": "code",
      "execution_count": null,
      "id": "1a45cfed",
      "metadata": {
        "colab": {
          "base_uri": "https://localhost:8080/"
        },
        "id": "1a45cfed",
        "outputId": "40ddfd5f-bc22-4f09-aa63-98097e617cff"
      },
      "outputs": [],
      "source": [
        "predict = model.predict_generator(test_generator, steps=np.ceil(nb_samples/batch_size))\n",
        "predict"
      ]
    },
    {
      "cell_type": "code",
      "execution_count": null,
      "id": "7438245b",
      "metadata": {
        "colab": {
          "base_uri": "https://localhost:8080/"
        },
        "id": "7438245b",
        "outputId": "cdf3a40d-5eb4-4ec7-cc76-2fcc1af83b41"
      },
      "outputs": [],
      "source": [
        "test_df['category'] = np.argmax(predict, axis=-1)\n",
        "test_df['category']"
      ]
    },
    {
      "cell_type": "code",
      "execution_count": null,
      "id": "6e143926",
      "metadata": {
        "colab": {
          "base_uri": "https://localhost:8080/"
        },
        "id": "6e143926",
        "outputId": "1dbbc80d-e52f-4693-9a13-ddb54fd877e2"
      },
      "outputs": [],
      "source": [
        "label_map = dict((v,k) for k,v in train_generator.class_indices.items())\n",
        "test_df['category'] = test_df['category'].replace(label_map)\n",
        "test_df['category']"
      ]
    },
    {
      "cell_type": "code",
      "execution_count": null,
      "id": "e8f0c6e9",
      "metadata": {
        "colab": {
          "base_uri": "https://localhost:8080/"
        },
        "id": "e8f0c6e9",
        "outputId": "c6ee8881-26c0-48cc-92a1-25db6fea98ed"
      },
      "outputs": [],
      "source": [
        "test_df['category'] = test_df['category'].replace({ 'Autistic': 1, 'Non_Autistic': 0 })\n",
        "test_df['category']"
      ]
    },
    {
      "cell_type": "markdown",
      "id": "bdff77aa",
      "metadata": {
        "id": "bdff77aa"
      },
      "source": [
        "# Virtaulize Result\n"
      ]
    },
    {
      "cell_type": "code",
      "execution_count": null,
      "id": "9876d522",
      "metadata": {
        "colab": {
          "base_uri": "https://localhost:8080/",
          "height": 442
        },
        "id": "9876d522",
        "outputId": "adc3d3b8-5dd8-4006-c676-c9d667fdb742",
        "scrolled": true
      },
      "outputs": [],
      "source": [
        "test_df['category'].value_counts().plot.bar()"
      ]
    },
    {
      "cell_type": "markdown",
      "id": "fd612a1e",
      "metadata": {
        "id": "fd612a1e"
      },
      "source": [
        "# See The Predicted Result on Test Data"
      ]
    },
    {
      "cell_type": "code",
      "execution_count": null,
      "id": "100452b9",
      "metadata": {
        "colab": {
          "base_uri": "https://localhost:8080/",
          "height": 1000
        },
        "id": "100452b9",
        "outputId": "869553b5-4415-4605-c750-ccc7987e507c",
        "scrolled": true
      },
      "outputs": [],
      "source": [
        "sample_test = test_df.head(18)\n",
        "sample_test.head()\n",
        "plt.figure(figsize=(12, 24))\n",
        "for index, row in sample_test.iterrows():\n",
        "    filename = row['filename']\n",
        "    category = row['category']\n",
        "    img = load_img(\"/content/drive/MyDrive/AutismDataset(1)/test/\"+filename, target_size=IMAGE_SIZE)\n",
        "    plt.subplot(6, 3, index+1)\n",
        "    plt.imshow(img)\n",
        "    plt.xlabel(filename + '(' + \"{}\".format(category) + ')' )\n",
        "plt.tight_layout()\n",
        "plt.show()"
      ]
    },
    {
      "cell_type": "markdown",
      "id": "d352e7c4",
      "metadata": {
        "id": "d352e7c4"
      },
      "source": [
        "# Creating Testing Images Outside the Dataset to Predict The Result"
      ]
    },
    {
      "cell_type": "code",
      "execution_count": null,
      "id": "b5183b60",
      "metadata": {
        "colab": {
          "base_uri": "https://localhost:8080/"
        },
        "id": "b5183b60",
        "outputId": "2914c536-f1cd-47f1-a1d3-e546d783a82c"
      },
      "outputs": [],
      "source": [
        "base_directory = \"/content/drive/MyDrive/AutismDataset(1)/valid\"\n",
        "all_filenames = []\n",
        "\n",
        "# Iterate through each subfolder\n",
        "for category in os.listdir(base_directory):\n",
        "    category_directory = os.path.join(base_directory, category)\n",
        "    # Iterate through each file in the subfolder\n",
        "    for filename in os.listdir(category_directory):\n",
        "        # Append filename with subfolder information to the list\n",
        "        all_filenames.append(os.path.join(category, filename))\n",
        "\n",
        "# Create DataFrame from the list of filenames\n",
        "test_df2 = pd.DataFrame({'filename': all_filenames})\n",
        "\n",
        "# Get the number of samples in the DataFrame\n",
        "nb_samples = test_df2.shape[0]\n",
        "\n",
        "print(\"Number of samples:\", nb_samples)\n"
      ]
    },
    {
      "cell_type": "markdown",
      "id": "5a832543",
      "metadata": {
        "id": "5a832543"
      },
      "source": [
        "# Creating Test Generator  for the Images To Predict"
      ]
    },
    {
      "cell_type": "code",
      "execution_count": null,
      "id": "062c382f",
      "metadata": {
        "colab": {
          "base_uri": "https://localhost:8080/"
        },
        "id": "062c382f",
        "outputId": "f7bee25f-576f-46dd-a3be-e9618c6851f5"
      },
      "outputs": [],
      "source": [
        "test_gen2 = ImageDataGenerator(rescale=1./255)\n",
        "test_generator2 = test_gen2.flow_from_dataframe(\n",
        "    test_df2,\n",
        "    \"/content/drive/MyDrive/AutismDataset(1)/valid\",\n",
        "    x_col='filename',\n",
        "    y_col=None,\n",
        "    class_mode=None,\n",
        "    target_size=IMAGE_SIZE,\n",
        "    batch_size=batch_size,\n",
        "    shuffle=False\n",
        ")"
      ]
    },
    {
      "cell_type": "markdown",
      "id": "19ef3e4a",
      "metadata": {
        "id": "19ef3e4a"
      },
      "source": [
        "# Predictions On The Images"
      ]
    },
    {
      "cell_type": "code",
      "execution_count": null,
      "id": "3dbf45a8",
      "metadata": {
        "colab": {
          "base_uri": "https://localhost:8080/"
        },
        "id": "3dbf45a8",
        "outputId": "4817bdc2-2343-435e-8985-d58b56317ac2"
      },
      "outputs": [],
      "source": [
        "predict2 = model.predict_generator(test_generator2, steps=np.ceil(nb_samples/batch_size))\n",
        "predict2"
      ]
    },
    {
      "cell_type": "markdown",
      "id": "653d1c1a",
      "metadata": {
        "id": "653d1c1a"
      },
      "source": [
        "# Printing The Results"
      ]
    },
    {
      "cell_type": "code",
      "execution_count": null,
      "id": "c57107c0",
      "metadata": {
        "colab": {
          "base_uri": "https://localhost:8080/"
        },
        "id": "c57107c0",
        "outputId": "3ec033db-9bd5-4bff-f85e-849b41e55091"
      },
      "outputs": [],
      "source": [
        "test_df2['category'] = np.argmax(predict2, axis=-1)\n",
        "test_df2['category']"
      ]
    },
    {
      "cell_type": "code",
      "execution_count": null,
      "id": "9c695b69",
      "metadata": {
        "colab": {
          "base_uri": "https://localhost:8080/"
        },
        "id": "9c695b69",
        "outputId": "460b610a-5964-4c85-b296-188bbdafd2fd",
        "scrolled": false
      },
      "outputs": [],
      "source": [
        "label_map = dict((v,k) for k,v in train_generator.class_indices.items())\n",
        "test_df2['category'] = test_df2['category'].replace(label_map)\n",
        "test_df2['category']"
      ]
    },
    {
      "cell_type": "code",
      "execution_count": null,
      "id": "t7NKOJd2888V",
      "metadata": {
        "colab": {
          "base_uri": "https://localhost:8080/"
        },
        "id": "t7NKOJd2888V",
        "outputId": "8967ad37-9419-4170-9fc9-12103136d642"
      },
      "outputs": [],
      "source": [
        "from keras.preprocessing import image\n",
        "from keras.models import load_model\n",
        "import numpy as np\n",
        "\n",
        "# Load the saved model\n",
        "model = load_model(\"/content/CNN.h5\")\n",
        "\n",
        "# Define the target image path\n",
        "image_path = \"/content/drive/MyDrive/AutismDataset(1)/test/Non_Autistic.1.jpg\"\n",
        "\n",
        "# Load and preprocess the image\n",
        "img = image.load_img(image_path, target_size=(128, 128))\n",
        "img_array = image.img_to_array(img)\n",
        "img_array = np.expand_dims(img_array, axis=0)\n",
        "img_array /= 255.0  # Normalize the image\n",
        "\n",
        "# Predict using the loaded model\n",
        "prediction = model.predict(img_array)\n",
        "print(prediction)\n",
        "# Interpret the prediction\n",
        "if prediction[0][0] < prediction[0][1]:\n",
        "    print(\"The image is predicted to be Non-Autistic.\")\n",
        "else:\n",
        "    print(\"The image is predicted to be Autistic.\")\n"
      ]
    }
  ],
  "metadata": {
    "accelerator": "GPU",
    "colab": {
      "provenance": []
    },
    "kernelspec": {
      "display_name": "Python 3",
      "language": "python",
      "name": "python3"
    },
    "language_info": {
      "codemirror_mode": {
        "name": "ipython",
        "version": 3
      },
      "file_extension": ".py",
      "mimetype": "text/x-python",
      "name": "python",
      "nbconvert_exporter": "python",
      "pygments_lexer": "ipython3",
      "version": "3.8.8"
    }
  },
  "nbformat": 4,
  "nbformat_minor": 5
}
